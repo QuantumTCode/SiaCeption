{
 "cells": [
  {
   "cell_type": "code",
   "execution_count": 30,
   "metadata": {},
   "outputs": [],
   "source": [
    "from keras.applications.vgg19 import VGG19\n",
    "from keras.applications.nasnet import NASNetLarge\n",
    "from keras.preprocessing import image\n",
    "from keras.applications.vgg19 import preprocess_input\n",
    "import numpy as np\n",
    "import pickle\n",
    "from os import listdir\n",
    "from os.path import isfile, join\n",
    "import os\n",
    "import json\n",
    "from glob import glob\n",
    "from tqdm import tqdm_notebook as tqdm\n",
    "model = VGG19(weights='imagenet', include_top=False)\n",
    "#model1 = NASNetLarge(weights='imagenet', include_top=False)"
   ]
  },
  {
   "cell_type": "code",
   "execution_count": 31,
   "metadata": {},
   "outputs": [
    {
     "data": {
      "text/plain": [
       "'classes_folders = [x[0] for x in os.walk(\"./mnist\")][1:]\\nonlyfiles=[]\\ndata={}\\ntry:\\n    with open(\\'data.pkl\\', \\'rb\\') as f:\\n        data= pickle.load(f)\\n    print(\"Using previous training data, delete data.pkl to retrain network\")\\nexcept:\\n    print(\"Training new weights\")\\n    for i in range(len(classes_folders)):\\n        print(i)\\n        data[i]={}\\n        data[i][\"class\"]=classes_folders[i].replace(\\'./mnist/\\',\\'\\')\\n        images=(glob(classes_folders[i]+\"/*.jpg\"))\\n        data[i][\"images\"]=images\\n        \\n        for j in tqdm(range(len(images))):\\n            img = image.load_img(images[j], target_size=(224, 224))\\n            x = image.img_to_array(img)\\n            x = np.expand_dims(x, axis=0)\\n            x = preprocess_input(x)\\n            features =+ model.predict(x)\\n            print(j)\\n        features=features/len(images)\\n        data[i][\"features\"]=features\\n    with open(\\'data.pkl\\', \\'wb\\') as f:\\n        pickle.dump(data, f, pickle.HIGHEST_PROTOCOL)'"
      ]
     },
     "execution_count": 31,
     "metadata": {},
     "output_type": "execute_result"
    }
   ],
   "source": [
    "'''classes_folders = [x[0] for x in os.walk(\"./mnist\")][1:]\n",
    "onlyfiles=[]\n",
    "data={}\n",
    "try:\n",
    "    with open('data.pkl', 'rb') as f:\n",
    "        data= pickle.load(f)\n",
    "    print(\"Using previous training data, delete data.pkl to retrain network\")\n",
    "except:\n",
    "    print(\"Training new weights\")\n",
    "    for i in range(len(classes_folders)):\n",
    "        print(i)\n",
    "        data[i]={}\n",
    "        data[i][\"class\"]=classes_folders[i].replace('./mnist/','')\n",
    "        images=(glob(classes_folders[i]+\"/*.jpg\"))\n",
    "        data[i][\"images\"]=images\n",
    "        \n",
    "        for j in tqdm(range(len(images))):\n",
    "            img = image.load_img(images[j], target_size=(224, 224))\n",
    "            x = image.img_to_array(img)\n",
    "            x = np.expand_dims(x, axis=0)\n",
    "            x = preprocess_input(x)\n",
    "            features =+ model.predict(x)\n",
    "            print(j)\n",
    "        features=features/len(images)\n",
    "        data[i][\"features\"]=features\n",
    "    with open('data.pkl', 'wb') as f:\n",
    "        pickle.dump(data, f, pickle.HIGHEST_PROTOCOL)'''\n",
    "\n"
   ]
  },
  {
   "cell_type": "code",
   "execution_count": 34,
   "metadata": {},
   "outputs": [
    {
     "name": "stdout",
     "output_type": "stream",
     "text": [
      "Training new weights\n",
      "0\n",
      "Training:Apple-BlackRot\n"
     ]
    },
    {
     "data": {
      "application/vnd.jupyter.widget-view+json": {
       "model_id": "add9d7c56def424089f099ce86080bcb",
       "version_major": 2,
       "version_minor": 0
      },
      "text/plain": [
       "HBox(children=(IntProgress(value=0, max=28), HTML(value=u'')))"
      ]
     },
     "metadata": {},
     "output_type": "display_data"
    },
    {
     "name": "stdout",
     "output_type": "stream",
     "text": [
      "1\n",
      "Training:Apple-Scab\n"
     ]
    },
    {
     "data": {
      "application/vnd.jupyter.widget-view+json": {
       "model_id": "2f0d76d7cd8244899902a18f5ab84a7c",
       "version_major": 2,
       "version_minor": 0
      },
      "text/plain": [
       "HBox(children=(IntProgress(value=0, max=28), HTML(value=u'')))"
      ]
     },
     "metadata": {},
     "output_type": "display_data"
    },
    {
     "name": "stdout",
     "output_type": "stream",
     "text": [
      "2\n",
      "Training:Apple-Healthy\n"
     ]
    },
    {
     "data": {
      "application/vnd.jupyter.widget-view+json": {
       "model_id": "b1cc440819a648828b15174bcfc8b325",
       "version_major": 2,
       "version_minor": 0
      },
      "text/plain": [
       "HBox(children=(IntProgress(value=0, max=28), HTML(value=u'')))"
      ]
     },
     "metadata": {},
     "output_type": "display_data"
    },
    {
     "name": "stdout",
     "output_type": "stream",
     "text": [
      "3\n",
      "Training:Apple-CedarAppleRust\n"
     ]
    },
    {
     "data": {
      "application/vnd.jupyter.widget-view+json": {
       "model_id": "24d0d286b1ca413183f4397b5c6bf160",
       "version_major": 2,
       "version_minor": 0
      },
      "text/plain": [
       "HBox(children=(IntProgress(value=0, max=28), HTML(value=u'')))"
      ]
     },
     "metadata": {},
     "output_type": "display_data"
    }
   ],
   "source": [
    "classes_folders = [x[0] for x in os.walk(\"./data\")][1:]\n",
    "onlyfiles=[]\n",
    "data={}\n",
    "try:\n",
    "    with open('data.pkl', 'rb') as f:\n",
    "        data= pickle.load(f)\n",
    "    print(\"Using previous training data, delete data.pkl to retrain network\")\n",
    "except:\n",
    "    print(\"Training new weights\")\n",
    "    for i in range(len(classes_folders)):\n",
    "        print(i)\n",
    "        data[i]={}\n",
    "        data[i][\"class\"]=classes_folders[i].replace('./data/','')\n",
    "        images=(glob(classes_folders[i]+\"/*.jpg\"))\n",
    "        images.extend(glob(classes_folders[i]+\"/*.JPG\"))\n",
    "        images.extend(glob(classes_folders[i]+\"/*.jpeg\"))\n",
    "        images.extend(glob(classes_folders[i]+\"/*.JPEG\"))\n",
    "        data[i][\"images\"]=images\n",
    "        features=[]\n",
    "        print(\"Training:\"+data[i][\"class\"])\n",
    "        for j in tqdm(range(len(images))):\n",
    "            img = image.load_img(images[j], target_size=(224, 224))\n",
    "            x = image.img_to_array(img)\n",
    "            x = np.expand_dims(x, axis=0)\n",
    "            x = preprocess_input(x)\n",
    "            features.append(model.predict(x))\n",
    "        data[i][\"features\"]=features\n",
    "    with open('data.pkl', 'wb') as f:\n",
    "        pickle.dump(data, f, pickle.HIGHEST_PROTOCOL)"
   ]
  },
  {
   "cell_type": "code",
   "execution_count": 35,
   "metadata": {},
   "outputs": [],
   "source": [
    "def analy(img_path):\n",
    "    img = image.load_img(img_path, target_size=(224, 224))\n",
    "    x = image.img_to_array(img)\n",
    "    x = np.expand_dims(x, axis=0)\n",
    "    x = preprocess_input(x)\n",
    "    test_features = model.predict(x)\n",
    "    distance={}\n",
    "    closest=np.inf\n",
    "    best_guess=\"\"\n",
    "    for k in range(len(classes_folders)):\n",
    "        distance[k]={}\n",
    "        distance[k][\"class\"]=data[k][\"class\"]\n",
    "        feats = data[k][\"features\"]\n",
    "        distance[k][\"distance\"]=np.inf\n",
    "        for m in range(len(feats)):\n",
    "            if distance[k][\"distance\"]>np.abs(np.linalg.norm(feats[m]-test_features)):\n",
    "                distance[k][\"distance\"]=np.abs(np.linalg.norm(feats[m]-test_features))\n",
    "        if distance[k][\"distance\"]<closest:\n",
    "            best_guess = distance[k][\"class\"]\n",
    "    sorted(distance, key=lambda x: (distance[x]['distance']))\n",
    "    Y=[x['distance'] for x in distance.values()]\n",
    "    X = [x['class'] for x in distance.values()]\n",
    "    best_guesses= [x for _,x in sorted(zip(Y,X))]\n",
    "    best_distances= [x for _,x in sorted(zip(X,Y))]\n",
    "    return best_guesses[0]\n",
    "    #print(\"This is most likely: \"+best_guesses[0])\n",
    "   # for l in range(len(best_guesses)):\n",
    "       # print(\"#{}: {}\".format(l+1,best_guesses[l]))"
   ]
  },
  {
   "cell_type": "code",
   "execution_count": 36,
   "metadata": {},
   "outputs": [
    {
     "data": {
      "text/plain": [
       "'Apple-Scab'"
      ]
     },
     "execution_count": 36,
     "metadata": {},
     "output_type": "execute_result"
    }
   ],
   "source": [
    "analy(\"test1.jpg\")"
   ]
  },
  {
   "cell_type": "code",
   "execution_count": 37,
   "metadata": {},
   "outputs": [
    {
     "data": {
      "application/vnd.jupyter.widget-view+json": {
       "model_id": "00c63b06ce0442b6a060fde877ea7a0a",
       "version_major": 2,
       "version_minor": 0
      },
      "text/plain": [
       "HBox(children=(IntProgress(value=0, max=427), HTML(value=u'')))"
      ]
     },
     "metadata": {},
     "output_type": "display_data"
    },
    {
     "data": {
      "application/vnd.jupyter.widget-view+json": {
       "model_id": "5813d6d1c4e94f89bf7e921c8d231a50",
       "version_major": 2,
       "version_minor": 0
      },
      "text/plain": [
       "HBox(children=(IntProgress(value=0, max=308), HTML(value=u'')))"
      ]
     },
     "metadata": {},
     "output_type": "display_data"
    },
    {
     "data": {
      "application/vnd.jupyter.widget-view+json": {
       "model_id": "66a2379d1baa4a15a3e01afa24f23971",
       "version_major": 2,
       "version_minor": 0
      },
      "text/plain": [
       "HBox(children=(IntProgress(value=0, max=746), HTML(value=u'')))"
      ]
     },
     "metadata": {},
     "output_type": "display_data"
    },
    {
     "data": {
      "application/vnd.jupyter.widget-view+json": {
       "model_id": "91de0ddb89ea43098fd6fb54e224568f",
       "version_major": 2,
       "version_minor": 0
      },
      "text/plain": [
       "HBox(children=(IntProgress(value=0, max=126), HTML(value=u'')))"
      ]
     },
     "metadata": {},
     "output_type": "display_data"
    },
    {
     "name": "stdout",
     "output_type": "stream",
     "text": [
      "0.453640323584\n"
     ]
    }
   ],
   "source": [
    "correct=0\n",
    "total=0\n",
    "valid_folders = [x[0] for x in os.walk(\"./valid\")][1:]\n",
    "for i in range(len(valid_folders)):\n",
    "    valimages=(glob(valid_folders[i]+\"/*.jpg\"))\n",
    "    valimages.extend(glob(valid_folders[i]+\"/*.JPG\"))\n",
    "    valimages.extend(glob(valid_folders[i]+\"/*.jpeg\"))\n",
    "    valimages.extend(glob(valid_folders[i]+\"/*.JPEG\"))\n",
    "    for j in tqdm(range(len(valimages))):\n",
    "        prediction = analy(valimages[j])\n",
    "        if prediction in valimages[j]:\n",
    "            correct=correct+1.0\n",
    "        total=total+1.0\n",
    "        accuracy=correct/total\n",
    "print(accuracy)\n",
    "        "
   ]
  },
  {
   "cell_type": "code",
   "execution_count": null,
   "metadata": {},
   "outputs": [],
   "source": []
  },
  {
   "cell_type": "code",
   "execution_count": null,
   "metadata": {},
   "outputs": [],
   "source": []
  }
 ],
 "metadata": {
  "kernelspec": {
   "display_name": "Python 3",
   "language": "python",
   "name": "python3"
  },
  "language_info": {
   "codemirror_mode": {
    "name": "ipython",
    "version": 2
   },
   "file_extension": ".py",
   "mimetype": "text/x-python",
   "name": "python",
   "nbconvert_exporter": "python",
   "pygments_lexer": "ipython2",
   "version": "2.7.15rc1"
  }
 },
 "nbformat": 4,
 "nbformat_minor": 2
}
