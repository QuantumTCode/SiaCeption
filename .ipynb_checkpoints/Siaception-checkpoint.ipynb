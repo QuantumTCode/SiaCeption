{
 "cells": [
  {
   "cell_type": "markdown",
   "metadata": {},
   "source": [
    "Hey this is Neil! This notebook is an experiment to use pretrained model embeddings as a basis for a few-shot learning siamese network. Your data should be in a data subdirectory, with the specific image classes as individual folders in the data folder. If you want, you can also have a \"valid\" directory to perform analysis on a validation set."
   ]
  },
  {
   "cell_type": "code",
   "execution_count": 1,
   "metadata": {},
   "outputs": [
    {
     "name": "stderr",
     "output_type": "stream",
     "text": [
      "Using TensorFlow backend.\n"
     ]
    }
   ],
   "source": [
    "#Hey this is Neil! \n",
    "#This notebook is an attempt to use pretrained model embeddings as a basis for a few-shot learning siamese network.\n",
    "#The data should be in a data subdirectory, with the specific image classes as individual folders in the data folder. \n",
    "#There can also have a \"valid\" directory to perform analysis on a validation set.\n",
    "\n",
    "\n",
    "from keras.applications.vgg19 import VGG19\n",
    "from keras.applications.nasnet import NASNetLarge\n",
    "from keras.preprocessing import image\n",
    "from keras.applications.vgg19 import preprocess_input\n",
    "import numpy as np\n",
    "import pickle\n",
    "from os import listdir\n",
    "from os.path import isfile, join\n",
    "import os\n",
    "import json\n",
    "from glob import glob\n",
    "from tqdm import tqdm_notebook as tqdm\n",
    "#change model if you want to try something else\n",
    "model = VGG19(weights='imagenet', include_top=False)\n",
    "#model1 = NASNetLarge(weights='imagenet', include_top=False)"
   ]
  },
  {
   "cell_type": "code",
   "execution_count": 2,
   "metadata": {},
   "outputs": [
    {
     "data": {
      "text/plain": [
       "'classes_folders = [x[0] for x in os.walk(\"./mnist\")][1:]\\nonlyfiles=[]\\ndata={}\\ntry:\\n    with open(\\'data.pkl\\', \\'rb\\') as f:\\n        data= pickle.load(f)\\n    print(\"Using previous training data, delete data.pkl to retrain network\")\\nexcept:\\n    print(\"Training new weights\")\\n    for i in range(len(classes_folders)):\\n        print(i)\\n        data[i]={}\\n        data[i][\"class\"]=classes_folders[i].replace(\\'./mnist/\\',\\'\\')\\n        images=(glob(classes_folders[i]+\"/*.jpg\"))\\n        data[i][\"images\"]=images\\n        \\n        for j in tqdm(range(len(images))):\\n            img = image.load_img(images[j], target_size=(224, 224))\\n            x = image.img_to_array(img)\\n            x = np.expand_dims(x, axis=0)\\n            x = preprocess_input(x)\\n            features =+ model.predict(x)\\n            print(j)\\n        features=features/len(images)\\n        data[i][\"features\"]=features\\n    with open(\\'data.pkl\\', \\'wb\\') as f:\\n        pickle.dump(data, f, pickle.HIGHEST_PROTOCOL)'"
      ]
     },
     "execution_count": 2,
     "metadata": {},
     "output_type": "execute_result"
    }
   ],
   "source": [
    "#Uncomment if ya want to try using mean of embeddings instead of all of them (saves space for larger databases) wouldn't reccomend, makes it much less accurate\n",
    "\n",
    "'''classes_folders = [x[0] for x in os.walk(\"./mnist\")][1:]\n",
    "onlyfiles=[]\n",
    "data={}\n",
    "try:\n",
    "    with open('data.pkl', 'rb') as f:\n",
    "        data= pickle.load(f)\n",
    "    print(\"Using previous training data, delete data.pkl to retrain network\")\n",
    "except:\n",
    "    print(\"Training new weights\")\n",
    "    for i in range(len(classes_folders)):\n",
    "        print(i)\n",
    "        data[i]={}\n",
    "        data[i][\"class\"]=classes_folders[i].replace('./mnist/','')\n",
    "        images=(glob(classes_folders[i]+\"/*.jpg\"))\n",
    "        data[i][\"images\"]=images\n",
    "        \n",
    "        for j in tqdm(range(len(images))):\n",
    "            img = image.load_img(images[j], target_size=(224, 224))\n",
    "            x = image.img_to_array(img)\n",
    "            x = np.expand_dims(x, axis=0)\n",
    "            x = preprocess_input(x)\n",
    "            features =+ model.predict(x)\n",
    "            print(j)\n",
    "        features=features/len(images)\n",
    "        data[i][\"features\"]=features\n",
    "    with open('data.pkl', 'wb') as f:\n",
    "        pickle.dump(data, f, pickle.HIGHEST_PROTOCOL)'''\n",
    "\n"
   ]
  },
  {
   "cell_type": "code",
   "execution_count": 150,
   "metadata": {},
   "outputs": [
    {
     "name": "stdout",
     "output_type": "stream",
     "text": [
      "Training new weights\n",
      "Training:Leopard\n"
     ]
    },
    {
     "data": {
      "application/vnd.jupyter.widget-view+json": {
       "model_id": "b39dc24dffab491ead69a47556fe3f04",
       "version_major": 2,
       "version_minor": 0
      },
      "text/plain": [
       "HBox(children=(IntProgress(value=0, max=1), HTML(value=u'')))"
      ]
     },
     "metadata": {},
     "output_type": "display_data"
    },
    {
     "name": "stdout",
     "output_type": "stream",
     "text": [
      "\n",
      "Training:Ant\n"
     ]
    },
    {
     "data": {
      "application/vnd.jupyter.widget-view+json": {
       "model_id": "3edb382393c94672ad49c7a3314314ad",
       "version_major": 2,
       "version_minor": 0
      },
      "text/plain": [
       "HBox(children=(IntProgress(value=0, max=1), HTML(value=u'')))"
      ]
     },
     "metadata": {},
     "output_type": "display_data"
    },
    {
     "name": "stdout",
     "output_type": "stream",
     "text": [
      "\n",
      "Training:Alligator\n"
     ]
    },
    {
     "data": {
      "application/vnd.jupyter.widget-view+json": {
       "model_id": "84ad2482a8fc4c3eb545c7fec5b3f186",
       "version_major": 2,
       "version_minor": 0
      },
      "text/plain": [
       "HBox(children=(IntProgress(value=0, max=1), HTML(value=u'')))"
      ]
     },
     "metadata": {},
     "output_type": "display_data"
    },
    {
     "name": "stdout",
     "output_type": "stream",
     "text": [
      "\n",
      "Training:Dolphin\n"
     ]
    },
    {
     "data": {
      "application/vnd.jupyter.widget-view+json": {
       "model_id": "f6f41c6a24644ec8a82de826f2948365",
       "version_major": 2,
       "version_minor": 0
      },
      "text/plain": [
       "HBox(children=(IntProgress(value=0, max=1), HTML(value=u'')))"
      ]
     },
     "metadata": {},
     "output_type": "display_data"
    },
    {
     "name": "stdout",
     "output_type": "stream",
     "text": [
      "\n",
      "Training:Giraffe\n"
     ]
    },
    {
     "data": {
      "application/vnd.jupyter.widget-view+json": {
       "model_id": "c58fc63284244cce8dc21fbb7a59d156",
       "version_major": 2,
       "version_minor": 0
      },
      "text/plain": [
       "HBox(children=(IntProgress(value=0, max=1), HTML(value=u'')))"
      ]
     },
     "metadata": {},
     "output_type": "display_data"
    },
    {
     "name": "stdout",
     "output_type": "stream",
     "text": [
      "\n",
      "Training:Frog\n"
     ]
    },
    {
     "data": {
      "application/vnd.jupyter.widget-view+json": {
       "model_id": "e2c47bad73e64a8892ede8dc45515916",
       "version_major": 2,
       "version_minor": 0
      },
      "text/plain": [
       "HBox(children=(IntProgress(value=0, max=1), HTML(value=u'')))"
      ]
     },
     "metadata": {},
     "output_type": "display_data"
    },
    {
     "name": "stdout",
     "output_type": "stream",
     "text": [
      "\n",
      "Training:Monkey\n"
     ]
    },
    {
     "data": {
      "application/vnd.jupyter.widget-view+json": {
       "model_id": "2e929b945c664175bb4d8f162d64cc58",
       "version_major": 2,
       "version_minor": 0
      },
      "text/plain": [
       "HBox(children=(IntProgress(value=0, max=1), HTML(value=u'')))"
      ]
     },
     "metadata": {},
     "output_type": "display_data"
    },
    {
     "name": "stdout",
     "output_type": "stream",
     "text": [
      "\n",
      "Training:Beaver\n"
     ]
    },
    {
     "data": {
      "application/vnd.jupyter.widget-view+json": {
       "model_id": "02180f5a92fb4a2ab7e1ef68a883d457",
       "version_major": 2,
       "version_minor": 0
      },
      "text/plain": [
       "HBox(children=(IntProgress(value=0, max=1), HTML(value=u'')))"
      ]
     },
     "metadata": {},
     "output_type": "display_data"
    },
    {
     "name": "stdout",
     "output_type": "stream",
     "text": [
      "\n",
      "Training:Penguin\n"
     ]
    },
    {
     "data": {
      "application/vnd.jupyter.widget-view+json": {
       "model_id": "6fc644c0db2e4ca89b7611b1925a273b",
       "version_major": 2,
       "version_minor": 0
      },
      "text/plain": [
       "HBox(children=(IntProgress(value=0, max=1), HTML(value=u'')))"
      ]
     },
     "metadata": {},
     "output_type": "display_data"
    },
    {
     "name": "stdout",
     "output_type": "stream",
     "text": [
      "\n",
      "Training:Bear\n"
     ]
    },
    {
     "data": {
      "application/vnd.jupyter.widget-view+json": {
       "model_id": "f4e0b6b1849645ce8da8de6cabce3b2b",
       "version_major": 2,
       "version_minor": 0
      },
      "text/plain": [
       "HBox(children=(IntProgress(value=0, max=1), HTML(value=u'')))"
      ]
     },
     "metadata": {},
     "output_type": "display_data"
    },
    {
     "name": "stdout",
     "output_type": "stream",
     "text": [
      "\n"
     ]
    }
   ],
   "source": [
    "#Make sure to delete data.pkl if you retrain the network\n",
    "#it's there so you can run inference without retraining all the weights again.\n",
    "\n",
    "classes_folders = [x[0] for x in os.walk(\"./data\")][1:]\n",
    "onlyfiles=[]\n",
    "data={}\n",
    "try:\n",
    "    with open('data.pkl', 'rb') as f:\n",
    "        \n",
    "        data= pickle.load(f)\n",
    "    print(\"Using previous training data, delete data.pkl to retrain network\")\n",
    "except:\n",
    "    print(\"Training new weights\")\n",
    "    for i in range(len(classes_folders)):\n",
    "        data[i]={}\n",
    "        data[i][\"class\"]=classes_folders[i].replace('./data/','')\n",
    "        images=(glob(classes_folders[i]+\"/*.jpg\"))\n",
    "        images.extend(glob(classes_folders[i]+\"/*.JPG\"))\n",
    "        images.extend(glob(classes_folders[i]+\"/*.jpeg\"))\n",
    "        images.extend(glob(classes_folders[i]+\"/*.JPEG\"))\n",
    "        images.extend(glob(classes_folders[i]+\"/*.png\"))\n",
    "        images.extend(glob(classes_folders[i]+\"/*.PNG\"))\n",
    "        data[i][\"images\"]=images\n",
    "        features=[]\n",
    "        print(\"Training:\"+data[i][\"class\"])\n",
    "        for j in tqdm(range(len(images))):\n",
    "            img = image.load_img(images[j], target_size=(224, 224))\n",
    "            x = image.img_to_array(img)\n",
    "            x = np.expand_dims(x, axis=0)\n",
    "            x = preprocess_input(x)\n",
    "            features.append(model.predict(x))\n",
    "        data[i][\"features\"]=features\n",
    "    with open('data.pkl', 'wb') as f:\n",
    "        pickle.dump(data, f, pickle.HIGHEST_PROTOCOL)"
   ]
  },
  {
   "cell_type": "code",
   "execution_count": 151,
   "metadata": {},
   "outputs": [],
   "source": [
    "#analysis of image at 'img_path'\n",
    "\n",
    "\n",
    "def analy(img_path):\n",
    "    img = image.load_img(img_path, target_size=(224, 224))\n",
    "    x = image.img_to_array(img)\n",
    "    x = np.expand_dims(x, axis=0)\n",
    "    x = preprocess_input(x)\n",
    "    test_features = model.predict(x)\n",
    "    distance={}\n",
    "    closest=np.inf\n",
    "    best_guess=\"\"\n",
    "    for k in range(len(classes_folders)):\n",
    "        distance[k]={}\n",
    "        distance[k][\"class\"]=data[k][\"class\"]\n",
    "        feats = data[k][\"features\"]\n",
    "        distance[k][\"distance\"]=np.inf\n",
    "        for m in range(len(feats)):\n",
    "            if distance[k][\"distance\"]>np.abs(np.linalg.norm(feats[m]-test_features)):\n",
    "                distance[k][\"distance\"]=np.abs(np.linalg.norm(feats[m]-test_features))\n",
    "        if distance[k][\"distance\"]<closest:\n",
    "            best_guess = distance[k][\"class\"]\n",
    "    sorted(distance, key=lambda x: (distance[x]['distance']))\n",
    "    Y=[x['distance'] for x in distance.values()]\n",
    "    X = [x['class'] for x in distance.values()]\n",
    "    best_guesses= [x for _,x in sorted(zip(Y,X))]\n",
    "    best_distances= [x for _,x in sorted(zip(X,Y))]\n",
    "    \n",
    "\n",
    "    #comment out this print statement if running testing evaluation\n",
    "    print(\"This is most likely: \"+best_guesses[0])\n",
    "    \n",
    "    #uncomment if want to have rankings on all the classes\n",
    "    \"\"\" for l in range(len(best_guesses)):\n",
    "        print(\"#{}: {}\".format(l+1,best_guesses[l]))\"\"\"\n",
    "    return best_guesses[0]"
   ]
  },
  {
   "cell_type": "code",
   "execution_count": 152,
   "metadata": {},
   "outputs": [],
   "source": [
    "#how you use analy: series of tests for Siaception\n",
    "#try images of your own"
   ]
  },
  {
   "cell_type": "code",
   "execution_count": 153,
   "metadata": {},
   "outputs": [
    {
     "name": "stdout",
     "output_type": "stream",
     "text": [
      "This is most likely: Alligator\n"
     ]
    },
    {
     "data": {
      "text/plain": [
       "'Alligator'"
      ]
     },
     "execution_count": 153,
     "metadata": {},
     "output_type": "execute_result"
    }
   ],
   "source": [
    "analy(\"alligator_test.jpg\")"
   ]
  },
  {
   "cell_type": "code",
   "execution_count": 154,
   "metadata": {},
   "outputs": [
    {
     "name": "stdout",
     "output_type": "stream",
     "text": [
      "This is most likely: Ant\n"
     ]
    },
    {
     "data": {
      "text/plain": [
       "'Ant'"
      ]
     },
     "execution_count": 154,
     "metadata": {},
     "output_type": "execute_result"
    }
   ],
   "source": [
    "analy(\"ant_test.jpg\")"
   ]
  },
  {
   "cell_type": "code",
   "execution_count": 155,
   "metadata": {},
   "outputs": [
    {
     "name": "stdout",
     "output_type": "stream",
     "text": [
      "This is most likely: Bear\n"
     ]
    },
    {
     "data": {
      "text/plain": [
       "'Bear'"
      ]
     },
     "execution_count": 155,
     "metadata": {},
     "output_type": "execute_result"
    }
   ],
   "source": [
    "analy(\"bear_test.jpg\")"
   ]
  },
  {
   "cell_type": "code",
   "execution_count": 156,
   "metadata": {},
   "outputs": [
    {
     "name": "stdout",
     "output_type": "stream",
     "text": [
      "This is most likely: Beaver\n"
     ]
    },
    {
     "data": {
      "text/plain": [
       "'Beaver'"
      ]
     },
     "execution_count": 156,
     "metadata": {},
     "output_type": "execute_result"
    }
   ],
   "source": [
    "analy(\"beaver_test.png\")"
   ]
  },
  {
   "cell_type": "code",
   "execution_count": 157,
   "metadata": {
    "scrolled": true
   },
   "outputs": [
    {
     "name": "stdout",
     "output_type": "stream",
     "text": [
      "This is most likely: Dolphin\n"
     ]
    },
    {
     "data": {
      "text/plain": [
       "'Dolphin'"
      ]
     },
     "execution_count": 157,
     "metadata": {},
     "output_type": "execute_result"
    }
   ],
   "source": [
    "analy(\"dolphin_test.jpeg\")"
   ]
  },
  {
   "cell_type": "code",
   "execution_count": 158,
   "metadata": {},
   "outputs": [
    {
     "name": "stdout",
     "output_type": "stream",
     "text": [
      "This is most likely: Frog\n"
     ]
    },
    {
     "data": {
      "text/plain": [
       "'Frog'"
      ]
     },
     "execution_count": 158,
     "metadata": {},
     "output_type": "execute_result"
    }
   ],
   "source": [
    "analy(\"frog_test.jpg\")"
   ]
  },
  {
   "cell_type": "code",
   "execution_count": 159,
   "metadata": {},
   "outputs": [
    {
     "name": "stdout",
     "output_type": "stream",
     "text": [
      "This is most likely: Giraffe\n"
     ]
    },
    {
     "data": {
      "text/plain": [
       "'Giraffe'"
      ]
     },
     "execution_count": 159,
     "metadata": {},
     "output_type": "execute_result"
    }
   ],
   "source": [
    "analy(\"giraffe_test.jpg\")"
   ]
  },
  {
   "cell_type": "code",
   "execution_count": 160,
   "metadata": {},
   "outputs": [
    {
     "name": "stdout",
     "output_type": "stream",
     "text": [
      "This is most likely: Leopard\n"
     ]
    },
    {
     "data": {
      "text/plain": [
       "'Leopard'"
      ]
     },
     "execution_count": 160,
     "metadata": {},
     "output_type": "execute_result"
    }
   ],
   "source": [
    "analy(\"leopard_test.jpg\")"
   ]
  },
  {
   "cell_type": "code",
   "execution_count": 163,
   "metadata": {},
   "outputs": [
    {
     "name": "stdout",
     "output_type": "stream",
     "text": [
      "This is most likely: Monkey\n"
     ]
    },
    {
     "data": {
      "text/plain": [
       "'Monkey'"
      ]
     },
     "execution_count": 163,
     "metadata": {},
     "output_type": "execute_result"
    }
   ],
   "source": [
    "analy(\"monkey_test.jpeg\")"
   ]
  },
  {
   "cell_type": "code",
   "execution_count": 166,
   "metadata": {},
   "outputs": [
    {
     "name": "stdout",
     "output_type": "stream",
     "text": [
      "This is most likely: Penguin\n"
     ]
    },
    {
     "data": {
      "text/plain": [
       "'Penguin'"
      ]
     },
     "execution_count": 166,
     "metadata": {},
     "output_type": "execute_result"
    }
   ],
   "source": [
    "analy(\"penguin_test.jpeg\")"
   ]
  },
  {
   "cell_type": "code",
   "execution_count": 44,
   "metadata": {},
   "outputs": [
    {
     "data": {
      "application/vnd.jupyter.widget-view+json": {
       "model_id": "ee00d65c14a1444a872559d8e9b8f765",
       "version_major": 2,
       "version_minor": 0
      },
      "text/plain": [
       "HBox(children=(IntProgress(value=0, max=400), HTML(value=u'')))"
      ]
     },
     "metadata": {},
     "output_type": "display_data"
    },
    {
     "data": {
      "application/vnd.jupyter.widget-view+json": {
       "model_id": "adc45565f67f41718df2aa8155680c68",
       "version_major": 2,
       "version_minor": 0
      },
      "text/plain": [
       "HBox(children=(IntProgress(value=0, max=400), HTML(value=u'')))"
      ]
     },
     "metadata": {},
     "output_type": "display_data"
    },
    {
     "data": {
      "application/vnd.jupyter.widget-view+json": {
       "model_id": "f454c990df1a48fca213aa469b369155",
       "version_major": 2,
       "version_minor": 0
      },
      "text/plain": [
       "HBox(children=(IntProgress(value=0, max=400), HTML(value=u'')))"
      ]
     },
     "metadata": {},
     "output_type": "display_data"
    },
    {
     "data": {
      "application/vnd.jupyter.widget-view+json": {
       "model_id": "82ba2473872b4ddab69af9e6e6bdee30",
       "version_major": 2,
       "version_minor": 0
      },
      "text/plain": [
       "HBox(children=(IntProgress(value=0, max=400), HTML(value=u'')))"
      ]
     },
     "metadata": {},
     "output_type": "display_data"
    },
    {
     "data": {
      "application/vnd.jupyter.widget-view+json": {
       "model_id": "d2dedea4c98e4b4cb5f9b8a064f2e4aa",
       "version_major": 2,
       "version_minor": 0
      },
      "text/plain": [
       "HBox(children=(IntProgress(value=0, max=400), HTML(value=u'')))"
      ]
     },
     "metadata": {},
     "output_type": "display_data"
    },
    {
     "data": {
      "application/vnd.jupyter.widget-view+json": {
       "model_id": "38cad22e530f47cd825f68ea3a2bd554",
       "version_major": 2,
       "version_minor": 0
      },
      "text/plain": [
       "HBox(children=(IntProgress(value=0, max=400), HTML(value=u'')))"
      ]
     },
     "metadata": {},
     "output_type": "display_data"
    },
    {
     "data": {
      "application/vnd.jupyter.widget-view+json": {
       "model_id": "a11717fcac3e4106bed18530853ee82f",
       "version_major": 2,
       "version_minor": 0
      },
      "text/plain": [
       "HBox(children=(IntProgress(value=0, max=400), HTML(value=u'')))"
      ]
     },
     "metadata": {},
     "output_type": "display_data"
    },
    {
     "data": {
      "application/vnd.jupyter.widget-view+json": {
       "model_id": "531beb66db274e169b0d57efb1ead593",
       "version_major": 2,
       "version_minor": 0
      },
      "text/plain": [
       "HBox(children=(IntProgress(value=0, max=400), HTML(value=u'')))"
      ]
     },
     "metadata": {},
     "output_type": "display_data"
    },
    {
     "data": {
      "application/vnd.jupyter.widget-view+json": {
       "model_id": "edba57a54cff4a8185d0c042f6abf049",
       "version_major": 2,
       "version_minor": 0
      },
      "text/plain": [
       "HBox(children=(IntProgress(value=0, max=400), HTML(value=u'')))"
      ]
     },
     "metadata": {},
     "output_type": "display_data"
    },
    {
     "data": {
      "application/vnd.jupyter.widget-view+json": {
       "model_id": "41e7847cc09943f4896b7d642d6fb08e",
       "version_major": 2,
       "version_minor": 0
      },
      "text/plain": [
       "HBox(children=(IntProgress(value=0, max=400), HTML(value=u'')))"
      ]
     },
     "metadata": {},
     "output_type": "display_data"
    },
    {
     "data": {
      "application/vnd.jupyter.widget-view+json": {
       "model_id": "1b8176054b004e94a09b7263f032445a",
       "version_major": 2,
       "version_minor": 0
      },
      "text/plain": [
       "HBox(children=(IntProgress(value=0, max=400), HTML(value=u'')))"
      ]
     },
     "metadata": {},
     "output_type": "display_data"
    },
    {
     "data": {
      "application/vnd.jupyter.widget-view+json": {
       "model_id": "8039a94ee8d34e149c73171a83e5b1c7",
       "version_major": 2,
       "version_minor": 0
      },
      "text/plain": [
       "HBox(children=(IntProgress(value=0, max=379), HTML(value=u'')))"
      ]
     },
     "metadata": {},
     "output_type": "display_data"
    },
    {
     "data": {
      "application/vnd.jupyter.widget-view+json": {
       "model_id": "7b549219fbd140a5b0faf2f9042ff4e5",
       "version_major": 2,
       "version_minor": 0
      },
      "text/plain": [
       "HBox(children=(IntProgress(value=0, max=400), HTML(value=u'')))"
      ]
     },
     "metadata": {},
     "output_type": "display_data"
    },
    {
     "data": {
      "application/vnd.jupyter.widget-view+json": {
       "model_id": "feab99de57b043aeb667af7715987f3e",
       "version_major": 2,
       "version_minor": 0
      },
      "text/plain": [
       "HBox(children=(IntProgress(value=0, max=400), HTML(value=u'')))"
      ]
     },
     "metadata": {},
     "output_type": "display_data"
    },
    {
     "data": {
      "application/vnd.jupyter.widget-view+json": {
       "model_id": "29a2a0a3da17486f8e6cd81f1442f41f",
       "version_major": 2,
       "version_minor": 0
      },
      "text/plain": [
       "HBox(children=(IntProgress(value=0, max=400), HTML(value=u'')))"
      ]
     },
     "metadata": {},
     "output_type": "display_data"
    },
    {
     "data": {
      "application/vnd.jupyter.widget-view+json": {
       "model_id": "51d4decfc57a43bd91f47683925d99af",
       "version_major": 2,
       "version_minor": 0
      },
      "text/plain": [
       "HBox(children=(IntProgress(value=0, max=400), HTML(value=u'')))"
      ]
     },
     "metadata": {},
     "output_type": "display_data"
    },
    {
     "name": "stdout",
     "output_type": "stream",
     "text": [
      "1.0\n"
     ]
    }
   ],
   "source": [
    "#validation testing\n",
    "\n",
    "correct=0\n",
    "total=0\n",
    "valid_folders = [x[0] for x in os.walk(\"./valid\")][1:]\n",
    "for i in range(len(valid_folders)):\n",
    "    valimages=(glob(valid_folders[i]+\"/*.jpg\"))\n",
    "    valimages.extend(glob(valid_folders[i]+\"/*.JPG\"))\n",
    "    valimages.extend(glob(valid_folders[i]+\"/*.jpeg\"))\n",
    "    valimages.extend(glob(valid_folders[i]+\"/*.JPEG\"))\n",
    "    valimages.extend(glob(valid_folders[i]+\"/*.png\"))\n",
    "    valimages.extend(glob(valid_folders[i]+\"/*.PNG\"))\n",
    "    for j in tqdm(range(len(valimages))):\n",
    "        prediction = analy(valimages[j])\n",
    "        if prediction in valimages[j]:\n",
    "            correct=correct+1.0\n",
    "        total=total+1.0\n",
    "        accuracy=correct/total\n",
    "print(accuracy)\n",
    "        "
   ]
  },
  {
   "cell_type": "code",
   "execution_count": null,
   "metadata": {},
   "outputs": [],
   "source": []
  },
  {
   "cell_type": "code",
   "execution_count": null,
   "metadata": {},
   "outputs": [],
   "source": []
  }
 ],
 "metadata": {
  "kernelspec": {
   "display_name": "Python 3",
   "language": "python",
   "name": "python3"
  },
  "language_info": {
   "codemirror_mode": {
    "name": "ipython",
    "version": 2
   },
   "file_extension": ".py",
   "mimetype": "text/x-python",
   "name": "python",
   "nbconvert_exporter": "python",
   "pygments_lexer": "ipython2",
   "version": "2.7.15rc1"
  }
 },
 "nbformat": 4,
 "nbformat_minor": 2
}
