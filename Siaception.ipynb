{
 "cells": [
  {
   "cell_type": "code",
   "execution_count": 38,
   "metadata": {},
   "outputs": [],
   "source": [
    "from keras.applications.vgg19 import VGG19\n",
    "from keras.applications.nasnet import NASNetLarge\n",
    "from keras.preprocessing import image\n",
    "from keras.applications.vgg19 import preprocess_input\n",
    "import numpy as np\n",
    "import pickle\n",
    "from os import listdir\n",
    "from os.path import isfile, join\n",
    "import os\n",
    "import json\n",
    "from glob import glob\n",
    "from tqdm import tqdm_notebook as tqdm\n",
    "model = VGG19(weights='imagenet', include_top=False)\n",
    "#model1 = NASNetLarge(weights='imagenet', include_top=False)"
   ]
  },
  {
   "cell_type": "code",
   "execution_count": 31,
   "metadata": {},
   "outputs": [
    {
     "data": {
      "text/plain": [
       "'classes_folders = [x[0] for x in os.walk(\"./mnist\")][1:]\\nonlyfiles=[]\\ndata={}\\ntry:\\n    with open(\\'data.pkl\\', \\'rb\\') as f:\\n        data= pickle.load(f)\\n    print(\"Using previous training data, delete data.pkl to retrain network\")\\nexcept:\\n    print(\"Training new weights\")\\n    for i in range(len(classes_folders)):\\n        print(i)\\n        data[i]={}\\n        data[i][\"class\"]=classes_folders[i].replace(\\'./mnist/\\',\\'\\')\\n        images=(glob(classes_folders[i]+\"/*.jpg\"))\\n        data[i][\"images\"]=images\\n        \\n        for j in tqdm(range(len(images))):\\n            img = image.load_img(images[j], target_size=(224, 224))\\n            x = image.img_to_array(img)\\n            x = np.expand_dims(x, axis=0)\\n            x = preprocess_input(x)\\n            features =+ model.predict(x)\\n            print(j)\\n        features=features/len(images)\\n        data[i][\"features\"]=features\\n    with open(\\'data.pkl\\', \\'wb\\') as f:\\n        pickle.dump(data, f, pickle.HIGHEST_PROTOCOL)'"
      ]
     },
     "execution_count": 31,
     "metadata": {},
     "output_type": "execute_result"
    }
   ],
   "source": [
    "'''classes_folders = [x[0] for x in os.walk(\"./mnist\")][1:]\n",
    "onlyfiles=[]\n",
    "data={}\n",
    "try:\n",
    "    with open('data.pkl', 'rb') as f:\n",
    "        data= pickle.load(f)\n",
    "    print(\"Using previous training data, delete data.pkl to retrain network\")\n",
    "except:\n",
    "    print(\"Training new weights\")\n",
    "    for i in range(len(classes_folders)):\n",
    "        print(i)\n",
    "        data[i]={}\n",
    "        data[i][\"class\"]=classes_folders[i].replace('./mnist/','')\n",
    "        images=(glob(classes_folders[i]+\"/*.jpg\"))\n",
    "        data[i][\"images\"]=images\n",
    "        \n",
    "        for j in tqdm(range(len(images))):\n",
    "            img = image.load_img(images[j], target_size=(224, 224))\n",
    "            x = image.img_to_array(img)\n",
    "            x = np.expand_dims(x, axis=0)\n",
    "            x = preprocess_input(x)\n",
    "            features =+ model.predict(x)\n",
    "            print(j)\n",
    "        features=features/len(images)\n",
    "        data[i][\"features\"]=features\n",
    "    with open('data.pkl', 'wb') as f:\n",
    "        pickle.dump(data, f, pickle.HIGHEST_PROTOCOL)'''\n",
    "\n"
   ]
  },
  {
   "cell_type": "code",
   "execution_count": 40,
   "metadata": {},
   "outputs": [
    {
     "name": "stdout",
     "output_type": "stream",
     "text": [
      "Training new weights\n",
      "0\n",
      "Training:18651 Cross Axle 2M with Snap friction\n"
     ]
    },
    {
     "data": {
      "application/vnd.jupyter.widget-view+json": {
       "model_id": "6142bd5c8a624cc0a9b89c562b8015dc",
       "version_major": 2,
       "version_minor": 0
      },
      "text/plain": [
       "HBox(children=(IntProgress(value=0, max=400), HTML(value=u'')))"
      ]
     },
     "metadata": {},
     "output_type": "display_data"
    },
    {
     "name": "stdout",
     "output_type": "stream",
     "text": [
      "1\n",
      "Training:6632 Technic Lever 3M\n"
     ]
    },
    {
     "data": {
      "application/vnd.jupyter.widget-view+json": {
       "model_id": "99ab644cc0414cf9b387ebd9c53f613f",
       "version_major": 2,
       "version_minor": 0
      },
      "text/plain": [
       "HBox(children=(IntProgress(value=0, max=400), HTML(value=u'')))"
      ]
     },
     "metadata": {},
     "output_type": "display_data"
    },
    {
     "name": "stdout",
     "output_type": "stream",
     "text": [
      "2\n",
      "Training:3024 Plate 1x1\n"
     ]
    },
    {
     "data": {
      "application/vnd.jupyter.widget-view+json": {
       "model_id": "0107ee584a754a7cba56b6b65fca5111",
       "version_major": 2,
       "version_minor": 0
      },
      "text/plain": [
       "HBox(children=(IntProgress(value=0, max=400), HTML(value=u'')))"
      ]
     },
     "metadata": {},
     "output_type": "display_data"
    },
    {
     "name": "stdout",
     "output_type": "stream",
     "text": [
      "3\n",
      "Training:3713 Bush for Cross Axle\n"
     ]
    },
    {
     "data": {
      "application/vnd.jupyter.widget-view+json": {
       "model_id": "625b4e0787da4de3b6949f2dc7f68d61",
       "version_major": 2,
       "version_minor": 0
      },
      "text/plain": [
       "HBox(children=(IntProgress(value=0, max=400), HTML(value=u'')))"
      ]
     },
     "metadata": {},
     "output_type": "display_data"
    },
    {
     "name": "stdout",
     "output_type": "stream",
     "text": [
      "4\n",
      "Training:3040 Roof Tile 1x2x45deg\n"
     ]
    },
    {
     "data": {
      "application/vnd.jupyter.widget-view+json": {
       "model_id": "9576af73fb504c6385ef50026b589e7c",
       "version_major": 2,
       "version_minor": 0
      },
      "text/plain": [
       "HBox(children=(IntProgress(value=0, max=400), HTML(value=u'')))"
      ]
     },
     "metadata": {},
     "output_type": "display_data"
    },
    {
     "name": "stdout",
     "output_type": "stream",
     "text": [
      "5\n",
      "Training:3004 Brick 1x2\n"
     ]
    },
    {
     "data": {
      "application/vnd.jupyter.widget-view+json": {
       "model_id": "287d65d22a724b05bffa48956f522874",
       "version_major": 2,
       "version_minor": 0
      },
      "text/plain": [
       "HBox(children=(IntProgress(value=0, max=400), HTML(value=u'')))"
      ]
     },
     "metadata": {},
     "output_type": "display_data"
    },
    {
     "name": "stdout",
     "output_type": "stream",
     "text": [
      "6\n",
      "Training:3673 Peg 2M\n"
     ]
    },
    {
     "data": {
      "application/vnd.jupyter.widget-view+json": {
       "model_id": "5c0f5c1eeb4f456fa23b270a1a564d72",
       "version_major": 2,
       "version_minor": 0
      },
      "text/plain": [
       "HBox(children=(IntProgress(value=0, max=400), HTML(value=u'')))"
      ]
     },
     "metadata": {},
     "output_type": "display_data"
    },
    {
     "name": "stdout",
     "output_type": "stream",
     "text": [
      "7\n",
      "Training:3023 Plate 1x2\n"
     ]
    },
    {
     "data": {
      "application/vnd.jupyter.widget-view+json": {
       "model_id": "a5072893b527414f8177e5508a56a59d",
       "version_major": 2,
       "version_minor": 0
      },
      "text/plain": [
       "HBox(children=(IntProgress(value=0, max=400), HTML(value=u'')))"
      ]
     },
     "metadata": {},
     "output_type": "display_data"
    },
    {
     "name": "stdout",
     "output_type": "stream",
     "text": [
      "8\n",
      "Training:3794 Plate 1X2 with 1 Knob\n"
     ]
    },
    {
     "data": {
      "application/vnd.jupyter.widget-view+json": {
       "model_id": "fe75009140984f9f85290ed69466470a",
       "version_major": 2,
       "version_minor": 0
      },
      "text/plain": [
       "HBox(children=(IntProgress(value=0, max=400), HTML(value=u'')))"
      ]
     },
     "metadata": {},
     "output_type": "display_data"
    },
    {
     "name": "stdout",
     "output_type": "stream",
     "text": [
      "9\n",
      "Training:11214 Bush 3M friction with Cross axle\n"
     ]
    },
    {
     "data": {
      "application/vnd.jupyter.widget-view+json": {
       "model_id": "0738d82efc1248e59fc4e0c5dbadf249",
       "version_major": 2,
       "version_minor": 0
      },
      "text/plain": [
       "HBox(children=(IntProgress(value=0, max=400), HTML(value=u'')))"
      ]
     },
     "metadata": {},
     "output_type": "display_data"
    },
    {
     "name": "stdout",
     "output_type": "stream",
     "text": [
      "10\n",
      "Training:3003 Brick 2x2\n"
     ]
    },
    {
     "data": {
      "application/vnd.jupyter.widget-view+json": {
       "model_id": "f322b8c8000f493d8f8e0c1c50e0f916",
       "version_major": 2,
       "version_minor": 0
      },
      "text/plain": [
       "HBox(children=(IntProgress(value=0, max=400), HTML(value=u'')))"
      ]
     },
     "metadata": {},
     "output_type": "display_data"
    },
    {
     "name": "stdout",
     "output_type": "stream",
     "text": [
      "11\n",
      "Training:2357 Brick corner 1x2x2\n"
     ]
    },
    {
     "data": {
      "application/vnd.jupyter.widget-view+json": {
       "model_id": "c0e70fd629214d92bb704d58ccef32b6",
       "version_major": 2,
       "version_minor": 0
      },
      "text/plain": [
       "HBox(children=(IntProgress(value=0, max=379), HTML(value=u'')))"
      ]
     },
     "metadata": {},
     "output_type": "display_data"
    },
    {
     "name": "stdout",
     "output_type": "stream",
     "text": [
      "12\n",
      "Training:32123 half Bush\n"
     ]
    },
    {
     "data": {
      "application/vnd.jupyter.widget-view+json": {
       "model_id": "fdc6d655fc1643988613336279e859ca",
       "version_major": 2,
       "version_minor": 0
      },
      "text/plain": [
       "HBox(children=(IntProgress(value=0, max=400), HTML(value=u'')))"
      ]
     },
     "metadata": {},
     "output_type": "display_data"
    },
    {
     "name": "stdout",
     "output_type": "stream",
     "text": [
      "13\n",
      "Training:3022 Plate 2x2\n"
     ]
    },
    {
     "data": {
      "application/vnd.jupyter.widget-view+json": {
       "model_id": "6578ddc758a84aa1bb509d68f573d8f2",
       "version_major": 2,
       "version_minor": 0
      },
      "text/plain": [
       "HBox(children=(IntProgress(value=0, max=400), HTML(value=u'')))"
      ]
     },
     "metadata": {},
     "output_type": "display_data"
    },
    {
     "name": "stdout",
     "output_type": "stream",
     "text": [
      "14\n",
      "Training:3005 Brick 1x1\n"
     ]
    },
    {
     "data": {
      "application/vnd.jupyter.widget-view+json": {
       "model_id": "56f475416c2a4d258a89d10ed0002caf",
       "version_major": 2,
       "version_minor": 0
      },
      "text/plain": [
       "HBox(children=(IntProgress(value=0, max=400), HTML(value=u'')))"
      ]
     },
     "metadata": {},
     "output_type": "display_data"
    },
    {
     "name": "stdout",
     "output_type": "stream",
     "text": [
      "15\n",
      "Training:3069 Flat Tile 1x2\n"
     ]
    },
    {
     "data": {
      "application/vnd.jupyter.widget-view+json": {
       "model_id": "65ba48d379ae42c2a3feb23ad93c9957",
       "version_major": 2,
       "version_minor": 0
      },
      "text/plain": [
       "HBox(children=(IntProgress(value=0, max=400), HTML(value=u'')))"
      ]
     },
     "metadata": {},
     "output_type": "display_data"
    }
   ],
   "source": [
    "classes_folders = [x[0] for x in os.walk(\"./data\")][1:]\n",
    "onlyfiles=[]\n",
    "data={}\n",
    "try:\n",
    "    with open('data.pkl', 'rb') as f:\n",
    "        data= pickle.load(f)\n",
    "    print(\"Using previous training data, delete data.pkl to retrain network\")\n",
    "except:\n",
    "    print(\"Training new weights\")\n",
    "    for i in range(len(classes_folders)):\n",
    "        data[i]={}\n",
    "        data[i][\"class\"]=classes_folders[i].replace('./data/','')\n",
    "        images=(glob(classes_folders[i]+\"/*.jpg\"))\n",
    "        images.extend(glob(classes_folders[i]+\"/*.JPG\"))\n",
    "        images.extend(glob(classes_folders[i]+\"/*.jpeg\"))\n",
    "        images.extend(glob(classes_folders[i]+\"/*.JPEG\"))\n",
    "        images.extend(glob(classes_folders[i]+\"/*.png\"))\n",
    "        images.extend(glob(classes_folders[i]+\"/*.PNG\"))\n",
    "        data[i][\"images\"]=images\n",
    "        features=[]\n",
    "        print(\"Training:\"+data[i][\"class\"])\n",
    "        for j in tqdm(range(len(images))):\n",
    "            img = image.load_img(images[j], target_size=(224, 224))\n",
    "            x = image.img_to_array(img)\n",
    "            x = np.expand_dims(x, axis=0)\n",
    "            x = preprocess_input(x)\n",
    "            features.append(model.predict(x))\n",
    "        data[i][\"features\"]=features\n",
    "    with open('data.pkl', 'wb') as f:\n",
    "        pickle.dump(data, f, pickle.HIGHEST_PROTOCOL)"
   ]
  },
  {
   "cell_type": "code",
   "execution_count": 41,
   "metadata": {},
   "outputs": [],
   "source": [
    "def analy(img_path):\n",
    "    img = image.load_img(img_path, target_size=(224, 224))\n",
    "    x = image.img_to_array(img)\n",
    "    x = np.expand_dims(x, axis=0)\n",
    "    x = preprocess_input(x)\n",
    "    test_features = model.predict(x)\n",
    "    distance={}\n",
    "    closest=np.inf\n",
    "    best_guess=\"\"\n",
    "    for k in range(len(classes_folders)):\n",
    "        distance[k]={}\n",
    "        distance[k][\"class\"]=data[k][\"class\"]\n",
    "        feats = data[k][\"features\"]\n",
    "        distance[k][\"distance\"]=np.inf\n",
    "        for m in range(len(feats)):\n",
    "            if distance[k][\"distance\"]>np.abs(np.linalg.norm(feats[m]-test_features)):\n",
    "                distance[k][\"distance\"]=np.abs(np.linalg.norm(feats[m]-test_features))\n",
    "        if distance[k][\"distance\"]<closest:\n",
    "            best_guess = distance[k][\"class\"]\n",
    "    sorted(distance, key=lambda x: (distance[x]['distance']))\n",
    "    Y=[x['distance'] for x in distance.values()]\n",
    "    X = [x['class'] for x in distance.values()]\n",
    "    best_guesses= [x for _,x in sorted(zip(Y,X))]\n",
    "    best_distances= [x for _,x in sorted(zip(X,Y))]\n",
    "    return best_guesses[0]\n",
    "    #print(\"This is most likely: \"+best_guesses[0])\n",
    "   # for l in range(len(best_guesses)):\n",
    "       # print(\"#{}: {}\".format(l+1,best_guesses[l]))"
   ]
  },
  {
   "cell_type": "code",
   "execution_count": 42,
   "metadata": {},
   "outputs": [
    {
     "data": {
      "text/plain": [
       "'6632 Technic Lever 3M'"
      ]
     },
     "execution_count": 42,
     "metadata": {},
     "output_type": "execute_result"
    }
   ],
   "source": [
    "analy(\"test1.jpg\")"
   ]
  },
  {
   "cell_type": "code",
   "execution_count": 44,
   "metadata": {},
   "outputs": [
    {
     "data": {
      "application/vnd.jupyter.widget-view+json": {
       "model_id": "ee00d65c14a1444a872559d8e9b8f765",
       "version_major": 2,
       "version_minor": 0
      },
      "text/plain": [
       "HBox(children=(IntProgress(value=0, max=400), HTML(value=u'')))"
      ]
     },
     "metadata": {},
     "output_type": "display_data"
    },
    {
     "data": {
      "application/vnd.jupyter.widget-view+json": {
       "model_id": "adc45565f67f41718df2aa8155680c68",
       "version_major": 2,
       "version_minor": 0
      },
      "text/plain": [
       "HBox(children=(IntProgress(value=0, max=400), HTML(value=u'')))"
      ]
     },
     "metadata": {},
     "output_type": "display_data"
    },
    {
     "data": {
      "application/vnd.jupyter.widget-view+json": {
       "model_id": "f454c990df1a48fca213aa469b369155",
       "version_major": 2,
       "version_minor": 0
      },
      "text/plain": [
       "HBox(children=(IntProgress(value=0, max=400), HTML(value=u'')))"
      ]
     },
     "metadata": {},
     "output_type": "display_data"
    },
    {
     "data": {
      "application/vnd.jupyter.widget-view+json": {
       "model_id": "82ba2473872b4ddab69af9e6e6bdee30",
       "version_major": 2,
       "version_minor": 0
      },
      "text/plain": [
       "HBox(children=(IntProgress(value=0, max=400), HTML(value=u'')))"
      ]
     },
     "metadata": {},
     "output_type": "display_data"
    },
    {
     "data": {
      "application/vnd.jupyter.widget-view+json": {
       "model_id": "d2dedea4c98e4b4cb5f9b8a064f2e4aa",
       "version_major": 2,
       "version_minor": 0
      },
      "text/plain": [
       "HBox(children=(IntProgress(value=0, max=400), HTML(value=u'')))"
      ]
     },
     "metadata": {},
     "output_type": "display_data"
    },
    {
     "data": {
      "application/vnd.jupyter.widget-view+json": {
       "model_id": "38cad22e530f47cd825f68ea3a2bd554",
       "version_major": 2,
       "version_minor": 0
      },
      "text/plain": [
       "HBox(children=(IntProgress(value=0, max=400), HTML(value=u'')))"
      ]
     },
     "metadata": {},
     "output_type": "display_data"
    },
    {
     "data": {
      "application/vnd.jupyter.widget-view+json": {
       "model_id": "a11717fcac3e4106bed18530853ee82f",
       "version_major": 2,
       "version_minor": 0
      },
      "text/plain": [
       "HBox(children=(IntProgress(value=0, max=400), HTML(value=u'')))"
      ]
     },
     "metadata": {},
     "output_type": "display_data"
    },
    {
     "data": {
      "application/vnd.jupyter.widget-view+json": {
       "model_id": "531beb66db274e169b0d57efb1ead593",
       "version_major": 2,
       "version_minor": 0
      },
      "text/plain": [
       "HBox(children=(IntProgress(value=0, max=400), HTML(value=u'')))"
      ]
     },
     "metadata": {},
     "output_type": "display_data"
    },
    {
     "data": {
      "application/vnd.jupyter.widget-view+json": {
       "model_id": "edba57a54cff4a8185d0c042f6abf049",
       "version_major": 2,
       "version_minor": 0
      },
      "text/plain": [
       "HBox(children=(IntProgress(value=0, max=400), HTML(value=u'')))"
      ]
     },
     "metadata": {},
     "output_type": "display_data"
    },
    {
     "data": {
      "application/vnd.jupyter.widget-view+json": {
       "model_id": "41e7847cc09943f4896b7d642d6fb08e",
       "version_major": 2,
       "version_minor": 0
      },
      "text/plain": [
       "HBox(children=(IntProgress(value=0, max=400), HTML(value=u'')))"
      ]
     },
     "metadata": {},
     "output_type": "display_data"
    },
    {
     "data": {
      "application/vnd.jupyter.widget-view+json": {
       "model_id": "1b8176054b004e94a09b7263f032445a",
       "version_major": 2,
       "version_minor": 0
      },
      "text/plain": [
       "HBox(children=(IntProgress(value=0, max=400), HTML(value=u'')))"
      ]
     },
     "metadata": {},
     "output_type": "display_data"
    },
    {
     "data": {
      "application/vnd.jupyter.widget-view+json": {
       "model_id": "8039a94ee8d34e149c73171a83e5b1c7",
       "version_major": 2,
       "version_minor": 0
      },
      "text/plain": [
       "HBox(children=(IntProgress(value=0, max=379), HTML(value=u'')))"
      ]
     },
     "metadata": {},
     "output_type": "display_data"
    },
    {
     "data": {
      "application/vnd.jupyter.widget-view+json": {
       "model_id": "7b549219fbd140a5b0faf2f9042ff4e5",
       "version_major": 2,
       "version_minor": 0
      },
      "text/plain": [
       "HBox(children=(IntProgress(value=0, max=400), HTML(value=u'')))"
      ]
     },
     "metadata": {},
     "output_type": "display_data"
    },
    {
     "data": {
      "application/vnd.jupyter.widget-view+json": {
       "model_id": "feab99de57b043aeb667af7715987f3e",
       "version_major": 2,
       "version_minor": 0
      },
      "text/plain": [
       "HBox(children=(IntProgress(value=0, max=400), HTML(value=u'')))"
      ]
     },
     "metadata": {},
     "output_type": "display_data"
    },
    {
     "data": {
      "application/vnd.jupyter.widget-view+json": {
       "model_id": "29a2a0a3da17486f8e6cd81f1442f41f",
       "version_major": 2,
       "version_minor": 0
      },
      "text/plain": [
       "HBox(children=(IntProgress(value=0, max=400), HTML(value=u'')))"
      ]
     },
     "metadata": {},
     "output_type": "display_data"
    },
    {
     "data": {
      "application/vnd.jupyter.widget-view+json": {
       "model_id": "51d4decfc57a43bd91f47683925d99af",
       "version_major": 2,
       "version_minor": 0
      },
      "text/plain": [
       "HBox(children=(IntProgress(value=0, max=400), HTML(value=u'')))"
      ]
     },
     "metadata": {},
     "output_type": "display_data"
    },
    {
     "name": "stdout",
     "output_type": "stream",
     "text": [
      "1.0\n"
     ]
    }
   ],
   "source": [
    "correct=0\n",
    "total=0\n",
    "valid_folders = [x[0] for x in os.walk(\"./valid\")][1:]\n",
    "for i in range(len(valid_folders)):\n",
    "    valimages=(glob(valid_folders[i]+\"/*.jpg\"))\n",
    "    valimages.extend(glob(valid_folders[i]+\"/*.JPG\"))\n",
    "    valimages.extend(glob(valid_folders[i]+\"/*.jpeg\"))\n",
    "    valimages.extend(glob(valid_folders[i]+\"/*.JPEG\"))\n",
    "    valimages.extend(glob(valid_folders[i]+\"/*.png\"))\n",
    "    valimages.extend(glob(valid_folders[i]+\"/*.PNG\"))\n",
    "    for j in tqdm(range(len(valimages))):\n",
    "        prediction = analy(valimages[j])\n",
    "        if prediction in valimages[j]:\n",
    "            correct=correct+1.0\n",
    "        total=total+1.0\n",
    "        accuracy=correct/total\n",
    "print(accuracy)\n",
    "        "
   ]
  },
  {
   "cell_type": "code",
   "execution_count": null,
   "metadata": {},
   "outputs": [],
   "source": []
  },
  {
   "cell_type": "code",
   "execution_count": null,
   "metadata": {},
   "outputs": [],
   "source": []
  }
 ],
 "metadata": {
  "kernelspec": {
   "display_name": "Python 3",
   "language": "python",
   "name": "python3"
  },
  "language_info": {
   "codemirror_mode": {
    "name": "ipython",
    "version": 2
   },
   "file_extension": ".py",
   "mimetype": "text/x-python",
   "name": "python",
   "nbconvert_exporter": "python",
   "pygments_lexer": "ipython2",
   "version": "2.7.15rc1"
  }
 },
 "nbformat": 4,
 "nbformat_minor": 2
}
